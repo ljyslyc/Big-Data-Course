{
 "cells": [
  {
   "cell_type": "code",
   "execution_count": 2,
   "source": [
    "import pandas as pd \n",
    "import numpy as np\n",
    "import networkx as nx\n",
    "import matplotlib.pyplot as plt\n",
    "from scipy.sparse.linalg import svds\n",
    "from scipy import sparse\n",
    "import seaborn as sns\n",
    "from matplotlib.axis import Axis \n",
    "\n",
    "#基于矩阵分解的结果，复原矩阵\n",
    "def rebuildMatrix(U, sigma, V):\n",
    "    a = np.dot(U, sigma)\n",
    "    a = np.dot(a, np.transpose(V))\n",
    "    return a\n",
    "    \n",
    "\n",
    "def GetMatrixImage(fig,fignum,vt,vt_name):\n",
    "    for i in range(len(vt)-1):\n",
    "        ax = fig.add_subplot(9,2,i*2+fignum)\n",
    "        # Set tick font size\n",
    "        for label in (ax.get_xticklabels() + ax.get_yticklabels()):\n",
    "            label.set_fontsize(16)\n",
    "        # Show ticks in the left and lower axes only\n",
    "        Axis.set_label_coords(ax.yaxis,0, 0.5)\n",
    "        Axis.set_label_coords(ax.xaxis,0.5, 0)\n",
    "        ax.spines['bottom'].set_position(('data', 0))\n",
    "        ax.spines['left'].set_position(('data', 0))\n",
    "        g = sns.scatterplot( x=\"v{}\".format(i+1), y=\"v{}\".format(i+2),data=pd.DataFrame({\n",
    "            \"v{}\".format(i+1):vt[i],\n",
    "            \"v{}\".format(i+2):vt[i+1]\n",
    "        }),palette=\"Set2\")\n",
    "        img_title = \"Spectral Subspace Plots of {0}{1} and {0}{2} \".format(vt_name,i+1,i+2)\n",
    "        g.set_title(img_title,fontsize = 20)\n",
    "        ax.set_xlabel(vt_name+str(i+1),fontsize = 20)\n",
    "        ax.set_ylabel(vt_name+str(i+2),fontsize = 20)\n",
    "        for p in ax.patches:\n",
    "            height = p.get_height()\n",
    "            ax.text(p.get_x()+p.get_width()/2.,\n",
    "                    height + 3,\n",
    "                    '{:1.2f}%'.format(100*height/len(vt)),\n",
    "                    ha=\"center\") "
   ],
   "outputs": [],
   "metadata": {}
  },
  {
   "cell_type": "markdown",
   "source": [
    "# 1.第一个数据（yelp.edgelist）"
   ],
   "metadata": {}
  },
  {
   "cell_type": "code",
   "execution_count": 3,
   "source": [
    "filepath = './yelp.edgelist'\n",
    "data = pd.read_csv(filepath, sep=' ',header = None,names = [\"用户id\",\"饭店id\",\"权重\"]) # 制表符分隔tab  \n",
    "data.head()"
   ],
   "outputs": [
    {
     "output_type": "execute_result",
     "data": {
      "text/html": [
       "<div>\n",
       "<style scoped>\n",
       "    .dataframe tbody tr th:only-of-type {\n",
       "        vertical-align: middle;\n",
       "    }\n",
       "\n",
       "    .dataframe tbody tr th {\n",
       "        vertical-align: top;\n",
       "    }\n",
       "\n",
       "    .dataframe thead th {\n",
       "        text-align: right;\n",
       "    }\n",
       "</style>\n",
       "<table border=\"1\" class=\"dataframe\">\n",
       "  <thead>\n",
       "    <tr style=\"text-align: right;\">\n",
       "      <th></th>\n",
       "      <th>用户id</th>\n",
       "      <th>饭店id</th>\n",
       "      <th>权重</th>\n",
       "    </tr>\n",
       "  </thead>\n",
       "  <tbody>\n",
       "    <tr>\n",
       "      <th>0</th>\n",
       "      <td>0</td>\n",
       "      <td>0</td>\n",
       "      <td>1</td>\n",
       "    </tr>\n",
       "    <tr>\n",
       "      <th>1</th>\n",
       "      <td>0</td>\n",
       "      <td>198</td>\n",
       "      <td>1</td>\n",
       "    </tr>\n",
       "    <tr>\n",
       "      <th>2</th>\n",
       "      <td>0</td>\n",
       "      <td>11036</td>\n",
       "      <td>1</td>\n",
       "    </tr>\n",
       "    <tr>\n",
       "      <th>3</th>\n",
       "      <td>0</td>\n",
       "      <td>40573</td>\n",
       "      <td>1</td>\n",
       "    </tr>\n",
       "    <tr>\n",
       "      <th>4</th>\n",
       "      <td>0</td>\n",
       "      <td>81</td>\n",
       "      <td>1</td>\n",
       "    </tr>\n",
       "  </tbody>\n",
       "</table>\n",
       "</div>"
      ],
      "text/plain": [
       "   用户id   饭店id  权重\n",
       "0     0      0   1\n",
       "1     0    198   1\n",
       "2     0  11036   1\n",
       "3     0  40573   1\n",
       "4     0     81   1"
      ]
     },
     "metadata": {},
     "execution_count": 3
    }
   ],
   "metadata": {}
  },
  {
   "cell_type": "code",
   "execution_count": 3,
   "source": [
    "G = nx.DiGraph()\n",
    "G.add_weighted_edges_from([tuple(x) for x in data.values])\n",
    "# G2=nx.betweenness_centrality(G,k=2)\n",
    "# nx.draw_networkx(G2)\n",
    "# plt.show()\n",
    "print (G.number_of_edges())"
   ],
   "outputs": [
    {
     "output_type": "stream",
     "name": "stdout",
     "text": [
      "2601677\n"
     ]
    }
   ],
   "metadata": {}
  },
  {
   "cell_type": "code",
   "execution_count": 4,
   "source": [
    "#\n",
    "yelp = np.array(data)\n",
    "yelp_row = yelp[:,0] # 行索引\n",
    "yelp_col = yelp[:,1] # 列索引\n",
    "yelp_data= yelp[:,2] # 索引对应的数值\n",
    "yelp_matrix = sparse.coo_matrix((yelp_data, (yelp_row, yelp_col)), dtype=float) # 需要转化为f\n",
    "print(yelp_matrix.shape)\n",
    "print(type(yelp_matrix))\n",
    "u, s, vt = svds(yelp_matrix,k=10,which = 'LM')"
   ],
   "outputs": [
    {
     "output_type": "stream",
     "name": "stdout",
     "text": [
      "(686556, 85539)\n",
      "<class 'scipy.sparse.coo.coo_matrix'>\n"
     ]
    }
   ],
   "metadata": {}
  },
  {
   "cell_type": "code",
   "execution_count": 5,
   "source": [
    "print(yelp_matrix.shape)"
   ],
   "outputs": [
    {
     "output_type": "stream",
     "name": "stdout",
     "text": [
      "(686556, 85539)\n"
     ]
    }
   ],
   "metadata": {}
  },
  {
   "cell_type": "code",
   "execution_count": 6,
   "source": [
    "Dcolumn , Drow = yelp_matrix.shape\n",
    "s_matric = np.ones((Dcolumn,Drow))\n",
    "print(s_matric)\n",
    "for i in range(len(s)):\n",
    "    s_matric[i,i] = s_matric[i,i]*s[i] + 1\n",
    "s_matric = s_matric - 1\n",
    "print(s_matric)"
   ],
   "outputs": [],
   "metadata": {}
  },
  {
   "cell_type": "code",
   "execution_count": null,
   "source": [
    "# rebuild from U, sigma, V\n",
    "a = rebuildMatrix(u, s_matric, v)\n",
    "a"
   ],
   "outputs": [
    {
     "output_type": "error",
     "ename": "Error",
     "evalue": "Kernel is dead",
     "traceback": [
      "Error: Kernel is dead",
      "at g._sendKernelShellControl (/Users/ljy/.vscode/extensions/ms-toolsai.jupyter-2021.8.2041215044/out/client/extension.js:52:1006195)",
      "at g.sendShellMessage (/Users/ljy/.vscode/extensions/ms-toolsai.jupyter-2021.8.2041215044/out/client/extension.js:52:1005964)",
      "at g.requestExecute (/Users/ljy/.vscode/extensions/ms-toolsai.jupyter-2021.8.2041215044/out/client/extension.js:52:1008506)",
      "at d.requestExecute (/Users/ljy/.vscode/extensions/ms-toolsai.jupyter-2021.8.2041215044/out/client/extension.js:37:325680)",
      "at w.requestExecute (/Users/ljy/.vscode/extensions/ms-toolsai.jupyter-2021.8.2041215044/out/client/extension.js:32:18027)",
      "at w.executeCodeCell (/Users/ljy/.vscode/extensions/ms-toolsai.jupyter-2021.8.2041215044/out/client/extension.js:52:301076)",
      "at w.execute (/Users/ljy/.vscode/extensions/ms-toolsai.jupyter-2021.8.2041215044/out/client/extension.js:52:300703)",
      "at w.start (/Users/ljy/.vscode/extensions/ms-toolsai.jupyter-2021.8.2041215044/out/client/extension.js:52:296367)",
      "at runMicrotasks (<anonymous>)",
      "at processTicksAndRejections (internal/process/task_queues.js:93:5)",
      "at t.CellExecutionQueue.executeQueuedCells (/Users/ljy/.vscode/extensions/ms-toolsai.jupyter-2021.8.2041215044/out/client/extension.js:52:311160)",
      "at t.CellExecutionQueue.start (/Users/ljy/.vscode/extensions/ms-toolsai.jupyter-2021.8.2041215044/out/client/extension.js:52:310700)"
     ]
    }
   ],
   "metadata": {}
  },
  {
   "cell_type": "code",
   "execution_count": null,
   "source": [
    "# plt.plot(vt[9],u[:,9])\n",
    "# plt.show()\n",
    "a=np.array([[0,1],[2,3]])\n",
    "np.resize(a,(2,3))"
   ],
   "outputs": [
    {
     "output_type": "error",
     "ename": "Error",
     "evalue": "Kernel is dead",
     "traceback": [
      "Error: Kernel is dead",
      "at g._sendKernelShellControl (/Users/ljy/.vscode/extensions/ms-toolsai.jupyter-2021.8.2041215044/out/client/extension.js:52:1006195)",
      "at g.sendShellMessage (/Users/ljy/.vscode/extensions/ms-toolsai.jupyter-2021.8.2041215044/out/client/extension.js:52:1005964)",
      "at g.requestExecute (/Users/ljy/.vscode/extensions/ms-toolsai.jupyter-2021.8.2041215044/out/client/extension.js:52:1008506)",
      "at d.requestExecute (/Users/ljy/.vscode/extensions/ms-toolsai.jupyter-2021.8.2041215044/out/client/extension.js:37:325680)",
      "at w.requestExecute (/Users/ljy/.vscode/extensions/ms-toolsai.jupyter-2021.8.2041215044/out/client/extension.js:32:18027)",
      "at w.executeCodeCell (/Users/ljy/.vscode/extensions/ms-toolsai.jupyter-2021.8.2041215044/out/client/extension.js:52:301076)",
      "at w.execute (/Users/ljy/.vscode/extensions/ms-toolsai.jupyter-2021.8.2041215044/out/client/extension.js:52:300703)",
      "at w.start (/Users/ljy/.vscode/extensions/ms-toolsai.jupyter-2021.8.2041215044/out/client/extension.js:52:296367)",
      "at runMicrotasks (<anonymous>)",
      "at processTicksAndRejections (internal/process/task_queues.js:93:5)",
      "at t.CellExecutionQueue.executeQueuedCells (/Users/ljy/.vscode/extensions/ms-toolsai.jupyter-2021.8.2041215044/out/client/extension.js:52:311160)",
      "at t.CellExecutionQueue.start (/Users/ljy/.vscode/extensions/ms-toolsai.jupyter-2021.8.2041215044/out/client/extension.js:52:310700)"
     ]
    }
   ],
   "metadata": {}
  },
  {
   "cell_type": "code",
   "execution_count": null,
   "source": [
    "# Spectral Subspace Plots\n",
    "sns.set(style=\"dark\")\n",
    "fig = plt.figure(figsize=(16, 80))\n",
    "fig_title = 'U and V Plot of yelp.edgelist'\n",
    "# fig.suptitle(fig_title,fontsize=20)\n",
    "fig.tight_layout()#调整整体空白\n",
    "plt.subplots_adjust(wspace =0.1, hspace =0.1)#调整子图间距\n",
    "        \n",
    "GetMatrixImage(fig,1,vt,'v')\n",
    "GetMatrixImage(fig,2,u.T,'u')\n",
    "\n",
    "plt.savefig('img/'+ fig_title + '.jpg')\n",
    "plt.show()"
   ],
   "outputs": [],
   "metadata": {}
  },
  {
   "cell_type": "markdown",
   "source": [
    "# 2.第二幅数据(bookcrosing)\n"
   ],
   "metadata": {}
  },
  {
   "cell_type": "code",
   "execution_count": null,
   "source": [
    "filepath = './book.txt'\n",
    "book_data = pd.read_csv(filepath, sep=';') # 制表符分隔tab  \n",
    "book_data.head()"
   ],
   "outputs": [],
   "metadata": {}
  },
  {
   "cell_type": "code",
   "execution_count": null,
   "source": [
    "# 转换为分类数据\n",
    "df = book_data.astype('category') # 可以指定特定的列转为分类数据 df['col1'] = df['col1'].astype('category')\n",
    "# 将标签数据转换为编码\n",
    "df_code = pd.DataFrame({col: df[col].cat.codes for col in df}, index=df.index)\n",
    "df_code.head()"
   ],
   "outputs": [],
   "metadata": {}
  },
  {
   "cell_type": "code",
   "execution_count": null,
   "source": [
    "yelp2 = np.array(df_code)\n",
    "yelp_row2 = yelp2[:,0] # 行索引\n",
    "yelp_col2 = yelp2[:,1] # 列索引\n",
    "yelp_matrix2 = sparse.coo_matrix((np.ones(len(yelp2)), (yelp_row2, yelp_col2)), dtype=float) # 需要转化为f\n",
    "print(yelp_matrix2.shape)\n",
    "print(type(yelp_matrix2))\n",
    "u, s, vt = svds(yelp_matrix2,k=10,which = 'LM')\n",
    "## Plots\n",
    "# Spectral Subspace Plots\n",
    "sns.set(style=\"dark\")\n",
    "fig = plt.figure(figsize=(16, 80))\n",
    "fig_title = 'U and V Plot of bookcrossing'\n",
    "# fig.suptitle(fig_title,fontsize=20)\n",
    "fig.tight_layout()#调整整体空白\n",
    "plt.subplots_adjust(wspace =0.1, hspace =0.1)#调整子图间距\n",
    "        \n",
    "GetMatrixImage(fig,1,vt,'v')\n",
    "GetMatrixImage(fig,2,u.T,'u')\n",
    "\n",
    "plt.savefig('img/'+ fig_title + '.jpg')\n",
    "plt.show()"
   ],
   "outputs": [],
   "metadata": {}
  }
 ],
 "metadata": {
  "interpreter": {
   "hash": "67154b75f02fde941e12d1256ee2bfca6c7056d3b48a543eab1c58c021bc0781"
  },
  "kernelspec": {
   "name": "python3",
   "display_name": "Python 3.8.8 64-bit ('base': conda)"
  },
  "language_info": {
   "codemirror_mode": {
    "name": "ipython",
    "version": 3
   },
   "file_extension": ".py",
   "mimetype": "text/x-python",
   "name": "python",
   "nbconvert_exporter": "python",
   "pygments_lexer": "ipython3",
   "version": "3.8.8"
  },
  "varInspector": {
   "cols": {
    "lenName": 16,
    "lenType": 16,
    "lenVar": 40
   },
   "kernels_config": {
    "python": {
     "delete_cmd_postfix": "",
     "delete_cmd_prefix": "del ",
     "library": "var_list.py",
     "varRefreshCmd": "print(var_dic_list())"
    },
    "r": {
     "delete_cmd_postfix": ") ",
     "delete_cmd_prefix": "rm(",
     "library": "var_list.r",
     "varRefreshCmd": "cat(var_dic_list()) "
    }
   },
   "types_to_exclude": [
    "module",
    "function",
    "builtin_function_or_method",
    "instance",
    "_Feature"
   ],
   "window_display": false
  }
 },
 "nbformat": 4,
 "nbformat_minor": 5
}