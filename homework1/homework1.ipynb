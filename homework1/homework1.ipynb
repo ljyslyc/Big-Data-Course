{
 "cells": [
  {
   "cell_type": "code",
   "execution_count": 1,
   "source": [
    "import pandas as pd \n",
    "import numpy as np\n",
    "import networkx as nx\n",
    "import matplotlib.pyplot as plt\n",
    "from scipy.sparse.linalg import svds\n",
    "from scipy import sparse\n",
    "import seaborn as sns"
   ],
   "outputs": [],
   "metadata": {}
  },
  {
   "cell_type": "code",
   "execution_count": 2,
   "source": [
    "# !pip install seaborn"
   ],
   "outputs": [],
   "metadata": {}
  },
  {
   "cell_type": "code",
   "execution_count": 3,
   "source": [
    "filepath = './yelp.edgelist'\n",
    "data = pd.read_csv(filepath, sep=' ',header = None,names = [\"用户id\",\"饭店id\",\"权重\"]) # 制表符分隔tab  \n",
    "data"
   ],
   "outputs": [
    {
     "output_type": "execute_result",
     "data": {
      "text/html": [
       "<div>\n",
       "<style scoped>\n",
       "    .dataframe tbody tr th:only-of-type {\n",
       "        vertical-align: middle;\n",
       "    }\n",
       "\n",
       "    .dataframe tbody tr th {\n",
       "        vertical-align: top;\n",
       "    }\n",
       "\n",
       "    .dataframe thead th {\n",
       "        text-align: right;\n",
       "    }\n",
       "</style>\n",
       "<table border=\"1\" class=\"dataframe\">\n",
       "  <thead>\n",
       "    <tr style=\"text-align: right;\">\n",
       "      <th></th>\n",
       "      <th>用户id</th>\n",
       "      <th>饭店id</th>\n",
       "      <th>权重</th>\n",
       "    </tr>\n",
       "  </thead>\n",
       "  <tbody>\n",
       "    <tr>\n",
       "      <th>0</th>\n",
       "      <td>0</td>\n",
       "      <td>0</td>\n",
       "      <td>1</td>\n",
       "    </tr>\n",
       "    <tr>\n",
       "      <th>1</th>\n",
       "      <td>0</td>\n",
       "      <td>198</td>\n",
       "      <td>1</td>\n",
       "    </tr>\n",
       "    <tr>\n",
       "      <th>2</th>\n",
       "      <td>0</td>\n",
       "      <td>11036</td>\n",
       "      <td>1</td>\n",
       "    </tr>\n",
       "    <tr>\n",
       "      <th>3</th>\n",
       "      <td>0</td>\n",
       "      <td>40573</td>\n",
       "      <td>1</td>\n",
       "    </tr>\n",
       "    <tr>\n",
       "      <th>4</th>\n",
       "      <td>0</td>\n",
       "      <td>81</td>\n",
       "      <td>1</td>\n",
       "    </tr>\n",
       "    <tr>\n",
       "      <th>...</th>\n",
       "      <td>...</td>\n",
       "      <td>...</td>\n",
       "      <td>...</td>\n",
       "    </tr>\n",
       "    <tr>\n",
       "      <th>2601672</th>\n",
       "      <td>686551</td>\n",
       "      <td>85538</td>\n",
       "      <td>1</td>\n",
       "    </tr>\n",
       "    <tr>\n",
       "      <th>2601673</th>\n",
       "      <td>686552</td>\n",
       "      <td>85538</td>\n",
       "      <td>1</td>\n",
       "    </tr>\n",
       "    <tr>\n",
       "      <th>2601674</th>\n",
       "      <td>686553</td>\n",
       "      <td>85538</td>\n",
       "      <td>1</td>\n",
       "    </tr>\n",
       "    <tr>\n",
       "      <th>2601675</th>\n",
       "      <td>686554</td>\n",
       "      <td>85538</td>\n",
       "      <td>1</td>\n",
       "    </tr>\n",
       "    <tr>\n",
       "      <th>2601676</th>\n",
       "      <td>686555</td>\n",
       "      <td>85538</td>\n",
       "      <td>1</td>\n",
       "    </tr>\n",
       "  </tbody>\n",
       "</table>\n",
       "<p>2601677 rows × 3 columns</p>\n",
       "</div>"
      ],
      "text/plain": [
       "           用户id   饭店id  权重\n",
       "0             0      0   1\n",
       "1             0    198   1\n",
       "2             0  11036   1\n",
       "3             0  40573   1\n",
       "4             0     81   1\n",
       "...         ...    ...  ..\n",
       "2601672  686551  85538   1\n",
       "2601673  686552  85538   1\n",
       "2601674  686553  85538   1\n",
       "2601675  686554  85538   1\n",
       "2601676  686555  85538   1\n",
       "\n",
       "[2601677 rows x 3 columns]"
      ]
     },
     "metadata": {},
     "execution_count": 3
    }
   ],
   "metadata": {}
  },
  {
   "cell_type": "code",
   "execution_count": 4,
   "source": [
    "G = nx.DiGraph()\n",
    "G.add_weighted_edges_from([tuple(x) for x in data.values])"
   ],
   "outputs": [],
   "metadata": {}
  },
  {
   "cell_type": "code",
   "execution_count": 5,
   "source": [
    "# G2=nx.betweenness_centrality(G,k=2)\n",
    "# nx.draw_networkx(G2)\n",
    "# plt.show()\n",
    "print (G.number_of_edges())"
   ],
   "outputs": [
    {
     "output_type": "stream",
     "name": "stdout",
     "text": [
      "2601677\n"
     ]
    }
   ],
   "metadata": {}
  },
  {
   "cell_type": "code",
   "execution_count": 6,
   "source": [
    "#\n",
    "yelp = np.array(data)\n",
    "yelp_row = yelp[:,0] # 行索引\n",
    "yelp_col = yelp[:,1] # 列索引\n",
    "yelp_data= yelp[:,2] # 索引对应的数值\n",
    "yelp_matrix = sparse.coo_matrix((yelp_data, (yelp_row, yelp_col)), dtype=float) # 需要转化为f\n",
    "print(yelp_matrix.shape)\n",
    "print(type(yelp_matrix))\n",
    "u, s, vt = svds(yelp_matrix,k=10,which = 'LM')"
   ],
   "outputs": [
    {
     "output_type": "stream",
     "name": "stdout",
     "text": [
      "(686556, 85539)\n",
      "<class 'scipy.sparse.coo.coo_matrix'>\n"
     ]
    }
   ],
   "metadata": {}
  },
  {
   "cell_type": "code",
   "execution_count": 53,
   "source": [
    "# Spectral Subspace Plots\n",
    "sns.set(style=\"dark\") \n",
    "for i in range(len(vt)-1):\n",
    "    fig = plt.figure(figsize=(8, 8))\n",
    "    ax = plt.axes()\n",
    "    # ax.set_xticks([]) \n",
    "    # ax.set_yticks([])\n",
    "    # ax.set_xlabel('v1') \n",
    "    # ax.spines['top'].set_color('none')\n",
    "    # ax.spines['right'].set_color('none')\n",
    "    # ax.xaxis.set_ticks_position('bottom')\n",
    "\n",
    "    # ax.spines['bottom'].set_position(('center'))\n",
    "    ax.spines['bottom'].set_position(('data', 0))\n",
    "    # ax.yaxis.set_ticks_position('left')\n",
    "    \n",
    "    # ax.spines['left'].set_position('center')\n",
    "    ax.spines['left'].set_position(('data', 0))\n",
    "\n",
    "    \n",
    "    g = sns.scatterplot( x=\"v{}\".format(i+1), y=\"v{}\".format(i+2),data=pd.DataFrame({\n",
    "        \"v{}\".format(i+1):vt[i],\n",
    "        \"v{}\".format(i+2):vt[i+1]\n",
    "    }),palette=\"Set2\")\n",
    "    img_title = \"Spectral Subspace Plots of v{} and v{} \".format(i+1,i+2)\n",
    "    g.set_title(img_title)\n",
    "\n",
    "    for p in ax.patches:\n",
    "        height = p.get_height()\n",
    "        ax.text(p.get_x()+p.get_width()/2.,\n",
    "                height + 3,\n",
    "                '{:1.2f}%'.format(100*height/len(vt)),\n",
    "                ha=\"center\") \n",
    "    break\n",
    "\n",
    "    plt.show()"
   ],
   "outputs": [
    {
     "output_type": "display_data",
     "data": {
      "image/png": "[encoded data removed]",
      "text/plain": [
       "<Figure size 576x576 with 1 Axes>"
      ]
     },
     "metadata": {}
    }
   ],
   "metadata": {}
  },
  {
   "cell_type": "code",
   "execution_count": 55,
   "source": [
    "help(ax.spines['bottom'].set_position)\n",
    "help(ax.text)"
   ],
   "outputs": [
    {
     "output_type": "stream",
     "name": "stdout",
     "text": [
      "Help on method set_position in module matplotlib.spines:\n",
      "\n",
      "set_position(position) method of matplotlib.spines.Spine instance\n",
      "    Set the position of the spine.\n",
      "    \n",
      "    Spine position is specified by a 2 tuple of (position type,\n",
      "    amount). The position types are:\n",
      "    \n",
      "    * 'outward': place the spine out from the data area by the specified\n",
      "      number of points. (Negative values place the spine inwards.)\n",
      "    * 'axes': place the spine at the specified Axes coordinate (0 to 1).\n",
      "    * 'data': place the spine at the specified data coordinate.\n",
      "    \n",
      "    Additionally, shorthand notations define a special positions:\n",
      "    \n",
      "    * 'center' -> ('axes', 0.5)\n",
      "    * 'zero' -> ('data', 0.0)\n",
      "\n",
      "Help on method text in module matplotlib.axes._axes:\n",
      "\n",
      "text(x, y, s, fontdict=None, **kwargs) method of matplotlib.axes._subplots.AxesSubplot instance\n",
      "    Add text to the axes.\n",
      "    \n",
      "    Add the text *s* to the axes at location *x*, *y* in data coordinates.\n",
      "    \n",
      "    Parameters\n",
      "    ----------\n",
      "    x, y : float\n",
      "        The position to place the text. By default, this is in data\n",
      "        coordinates. The coordinate system can be changed using the\n",
      "        *transform* parameter.\n",
      "    \n",
      "    s : str\n",
      "        The text.\n",
      "    \n",
      "    fontdict : dict, default: None\n",
      "        A dictionary to override the default text properties. If fontdict\n",
      "        is None, the defaults are determined by `.rcParams`.\n",
      "    \n",
      "    Returns\n",
      "    -------\n",
      "    `.Text`\n",
      "        The created `.Text` instance.\n",
      "    \n",
      "    Other Parameters\n",
      "    ----------------\n",
      "    **kwargs : `~matplotlib.text.Text` properties.\n",
      "        Other miscellaneous text parameters.\n",
      "    \n",
      "        Properties:\n",
      "        agg_filter: a filter function, which takes a (m, n, 3) float array and a dpi value, and returns a (m, n, 3) array\n",
      "        alpha: float or None\n",
      "        animated: bool\n",
      "        backgroundcolor: color\n",
      "        bbox: dict with properties for `.patches.FancyBboxPatch`\n",
      "        clip_box: `.Bbox`\n",
      "        clip_on: bool\n",
      "        clip_path: Patch or (Path, Transform) or None\n",
      "        color or c: color\n",
      "        contains: unknown\n",
      "        figure: `.Figure`\n",
      "        fontfamily or family: {FONTNAME, 'serif', 'sans-serif', 'cursive', 'fantasy', 'monospace'}\n",
      "        fontproperties or font or font_properties: `.font_manager.FontProperties` or `str` or `pathlib.Path`\n",
      "        fontsize or size: float or {'xx-small', 'x-small', 'small', 'medium', 'large', 'x-large', 'xx-large'}\n",
      "        fontstretch or stretch: {a numeric value in range 0-1000, 'ultra-condensed', 'extra-condensed', 'condensed', 'semi-condensed', 'normal', 'semi-expanded', 'expanded', 'extra-expanded', 'ultra-expanded'}\n",
      "        fontstyle or style: {'normal', 'italic', 'oblique'}\n",
      "        fontvariant or variant: {'normal', 'small-caps'}\n",
      "        fontweight or weight: {a numeric value in range 0-1000, 'ultralight', 'light', 'normal', 'regular', 'book', 'medium', 'roman', 'semibold', 'demibold', 'demi', 'bold', 'heavy', 'extra bold', 'black'}\n",
      "        gid: str\n",
      "        horizontalalignment or ha: {'center', 'right', 'left'}\n",
      "        in_layout: bool\n",
      "        label: object\n",
      "        linespacing: float (multiple of font size)\n",
      "        multialignment or ma: {'left', 'right', 'center'}\n",
      "        path_effects: `.AbstractPathEffect`\n",
      "        picker: None or bool or callable\n",
      "        position: (float, float)\n",
      "        rasterized: bool or None\n",
      "        rotation: float or {'vertical', 'horizontal'}\n",
      "        rotation_mode: {None, 'default', 'anchor'}\n",
      "        sketch_params: (scale: float, length: float, randomness: float)\n",
      "        snap: bool or None\n",
      "        text: object\n",
      "        transform: `.Transform`\n",
      "        url: str\n",
      "        usetex: bool or None\n",
      "        verticalalignment or va: {'center', 'top', 'bottom', 'baseline', 'center_baseline'}\n",
      "        visible: bool\n",
      "        wrap: bool\n",
      "        x: float\n",
      "        y: float\n",
      "        zorder: float\n",
      "    \n",
      "    Examples\n",
      "    --------\n",
      "    Individual keyword arguments can be used to override any given\n",
      "    parameter::\n",
      "    \n",
      "        >>> text(x, y, s, fontsize=12)\n",
      "    \n",
      "    The default transform specifies that text is in data coords,\n",
      "    alternatively, you can specify text in axis coords ((0, 0) is\n",
      "    lower-left and (1, 1) is upper-right).  The example below places\n",
      "    text in the center of the axes::\n",
      "    \n",
      "        >>> text(0.5, 0.5, 'matplotlib', horizontalalignment='center',\n",
      "        ...      verticalalignment='center', transform=ax.transAxes)\n",
      "    \n",
      "    You can put a rectangular box around the text instance (e.g., to\n",
      "    set a background color) by using the keyword *bbox*.  *bbox* is\n",
      "    a dictionary of `~matplotlib.patches.Rectangle`\n",
      "    properties.  For example::\n",
      "    \n",
      "        >>> text(x, y, s, bbox=dict(facecolor='red', alpha=0.5))\n",
      "\n"
     ]
    }
   ],
   "metadata": {}
  }
 ],
 "metadata": {
  "interpreter": {
   "hash": "67154b75f02fde941e12d1256ee2bfca6c7056d3b48a543eab1c58c021bc0781"
  },
  "kernelspec": {
   "name": "python3",
   "display_name": "Python 3.8.8 64-bit ('base': conda)"
  },
  "language_info": {
   "codemirror_mode": {
    "name": "ipython",
    "version": 3
   },
   "file_extension": ".py",
   "mimetype": "text/x-python",
   "name": "python",
   "nbconvert_exporter": "python",
   "pygments_lexer": "ipython3",
   "version": "3.8.8"
  },
  "varInspector": {
   "cols": {
    "lenName": 16,
    "lenType": 16,
    "lenVar": 40
   },
   "kernels_config": {
    "python": {
     "delete_cmd_postfix": "",
     "delete_cmd_prefix": "del ",
     "library": "var_list.py",
     "varRefreshCmd": "print(var_dic_list())"
    },
    "r": {
     "delete_cmd_postfix": ") ",
     "delete_cmd_prefix": "rm(",
     "library": "var_list.r",
     "varRefreshCmd": "cat(var_dic_list()) "
    }
   },
   "types_to_exclude": [
    "module",
    "function",
    "builtin_function_or_method",
    "instance",
    "_Feature"
   ],
   "window_display": false
  }
 },
 "nbformat": 4,
 "nbformat_minor": 5
}