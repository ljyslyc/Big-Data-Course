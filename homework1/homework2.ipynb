{
 "cells": [
  {
   "cell_type": "code",
   "execution_count": 1,
   "source": [
    "import pandas as pd \n",
    "import numpy as np\n",
    "import networkx as nx\n",
    "import matplotlib.pyplot as plt\n",
    "from scipy.sparse.linalg import svds\n",
    "from scipy import sparse\n",
    "import seaborn as sns\n",
    "from matplotlib.axis import Axis \n",
    "\n",
    "from sklearn.decomposition import TruncatedSVD\n",
    " \n",
    "svd = TruncatedSVD(2)\n",
    "iris_transformed = svd.fit_transform(iris_data)\n",
    "\n",
    "\n",
    "#基于矩阵分解的结果，复原矩阵\n",
    "def rebuildMatrix(U, sigma, V):\n",
    "    a = np.dot(U, sigma)\n",
    "    a = np.dot(a, np.transpose(V))\n",
    "    return a\n",
    "\n",
    "def GetMatrixImage(fig,fignum,vt,vt_name):\n",
    "    for i in range(len(vt)-1):\n",
    "        ax = fig.add_subplot(9,2,i*2+fignum)\n",
    "        # Set tick font size\n",
    "        for label in (ax.get_xticklabels() + ax.get_yticklabels()):\n",
    "            label.set_fontsize(16)\n",
    "        # Show ticks in the left and lower axes only\n",
    "        Axis.set_label_coords(ax.yaxis,0, 0.5)\n",
    "        Axis.set_label_coords(ax.xaxis,0.5, 0)\n",
    "        ax.spines['bottom'].set_position(('data', 0))\n",
    "        ax.spines['left'].set_position(('data', 0))\n",
    "        g = sns.scatterplot( x=\"v{}\".format(i+1), y=\"v{}\".format(i+2),data=pd.DataFrame({\n",
    "            \"v{}\".format(i+1):vt[i],\n",
    "            \"v{}\".format(i+2):vt[i+1]\n",
    "        }),palette=\"Set2\")\n",
    "        img_title = \"Spectral Subspace Plots of {0}{1} and {0}{2} \".format(vt_name,i+1,i+2)\n",
    "        g.set_title(img_title,fontsize = 20)\n",
    "        ax.set_xlabel(vt_name+str(i+1),fontsize = 20)\n",
    "        ax.set_ylabel(vt_name+str(i+2),fontsize = 20)\n",
    "        for p in ax.patches:\n",
    "            height = p.get_height()\n",
    "            ax.text(p.get_x()+p.get_width()/2.,\n",
    "                    height + 3,\n",
    "                    '{:1.2f}%'.format(100*height/len(vt)),\n",
    "                    ha=\"center\") "
   ],
   "outputs": [],
   "metadata": {}
  },
  {
   "cell_type": "markdown",
   "source": [
    "# 1.LSI"
   ],
   "metadata": {}
  },
  {
   "cell_type": "code",
   "execution_count": 2,
   "source": [
    "data = [\n",
    "    [1,0,1,0,0,0],\n",
    "    [0,1,0,0,0,0],\n",
    "    [1,1,0,0,0,0],\n",
    "    [1,0,0,1,1,0],\n",
    "    [0,0,0,1,0,1]]\n",
    "data"
   ],
   "outputs": [
    {
     "output_type": "execute_result",
     "data": {
      "text/plain": [
       "[[1, 0, 1, 0, 0, 0],\n",
       " [0, 1, 0, 0, 0, 0],\n",
       " [1, 1, 0, 0, 0, 0],\n",
       " [1, 0, 0, 1, 1, 0],\n",
       " [0, 0, 0, 1, 0, 1]]"
      ]
     },
     "metadata": {},
     "execution_count": 2
    }
   ],
   "metadata": {}
  },
  {
   "cell_type": "code",
   "execution_count": 3,
   "source": [
    "yelp_matrix = sparse.coo_matrix(data, dtype=float)\n",
    "print(yelp_matrix)\n",
    "u, s, vt = svds(yelp_matrix,k=3,which = 'LM')"
   ],
   "outputs": [
    {
     "output_type": "stream",
     "name": "stdout",
     "text": [
      "  (0, 0)\t1.0\n",
      "  (0, 2)\t1.0\n",
      "  (1, 1)\t1.0\n",
      "  (2, 0)\t1.0\n",
      "  (2, 1)\t1.0\n",
      "  (3, 0)\t1.0\n",
      "  (3, 3)\t1.0\n",
      "  (3, 4)\t1.0\n",
      "  (4, 3)\t1.0\n",
      "  (4, 5)\t1.0\n"
     ]
    }
   ],
   "metadata": {}
  },
  {
   "cell_type": "markdown",
   "source": [
    "#### 三维表示的特征值"
   ],
   "metadata": {}
  },
  {
   "cell_type": "code",
   "execution_count": 4,
   "source": [
    "s_matric = np.diag(s)\n",
    "print(s_matric)"
   ],
   "outputs": [
    {
     "output_type": "stream",
     "name": "stdout",
     "text": [
      "[[1.27529025 0.         0.        ]\n",
      " [0.         1.59438237 0.        ]\n",
      " [0.         0.         2.16250096]]\n"
     ]
    }
   ],
   "metadata": {}
  },
  {
   "cell_type": "markdown",
   "source": [
    "#### 词项的三维表示"
   ],
   "metadata": {}
  },
  {
   "cell_type": "code",
   "execution_count": 5,
   "source": [
    "u"
   ],
   "outputs": [
    {
     "output_type": "execute_result",
     "data": {
      "text/plain": [
       "array([[-0.56949758,  0.29617436,  0.44034748],\n",
       "       [ 0.5870217 ,  0.33145069,  0.12934635],\n",
       "       [ 0.36768998,  0.51111524,  0.47553026],\n",
       "       [-0.15490588, -0.35057241,  0.70302032],\n",
       "       [ 0.4145917 , -0.64674677,  0.26267284]])"
      ]
     },
     "metadata": {},
     "execution_count": 5
    }
   ],
   "metadata": {}
  },
  {
   "cell_type": "markdown",
   "source": [
    "#### 文档的三维表示"
   ],
   "metadata": {}
  },
  {
   "cell_type": "code",
   "execution_count": 6,
   "source": [
    "vt.T"
   ],
   "outputs": [
    {
     "output_type": "execute_result",
     "data": {
      "text/plain": [
       "array([[-0.2797116 ,  0.28645399,  0.74862305],\n",
       "       [ 0.74862305,  0.52845914,  0.2797116 ],\n",
       "       [-0.44656311,  0.18576119,  0.2036288 ],\n",
       "       [ 0.2036288 , -0.6255207 ,  0.44656311],\n",
       "       [-0.12146715, -0.21987976,  0.32509596],\n",
       "       [ 0.32509596, -0.40564094,  0.12146715]])"
      ]
     },
     "metadata": {},
     "execution_count": 6
    }
   ],
   "metadata": {}
  },
  {
   "cell_type": "markdown",
   "source": [
    "#### 利用SVD表达的三维表示复原词项文档矩阵"
   ],
   "metadata": {}
  },
  {
   "cell_type": "code",
   "execution_count": 7,
   "source": [
    "data_lsi = np.absolute(rebuildMatrix(u, s_matric, vt.T))\n",
    "data_lsi"
   ],
   "outputs": [
    {
     "output_type": "execute_result",
     "data": {
      "text/plain": [
       "array([[1.05129307, 0.02780367, 0.60595265, 0.01803027, 0.29396119,\n",
       "        0.31199146],\n",
       "       [0.15137923, 0.91794411, 0.1791829 , 0.05321203, 0.11619747,\n",
       "        0.06298543],\n",
       "       [0.87211017, 1.06932334, 0.15137923, 0.04495516, 0.0981672 ,\n",
       "        0.05321203],\n",
       "       [1.0332628 , 0.01803027, 0.29396119, 0.98830764, 0.64113441,\n",
       "        0.34717322],\n",
       "       [0.01803027, 0.0097734 , 0.31199146, 1.00633791, 0.34717322,\n",
       "        0.65916468]])"
      ]
     },
     "metadata": {},
     "execution_count": 7
    }
   ],
   "metadata": {}
  }
 ],
 "metadata": {
  "interpreter": {
   "hash": "67154b75f02fde941e12d1256ee2bfca6c7056d3b48a543eab1c58c021bc0781"
  },
  "kernelspec": {
   "name": "python3",
   "display_name": "Python 3.8.8 64-bit ('base': conda)"
  },
  "language_info": {
   "codemirror_mode": {
    "name": "ipython",
    "version": 3
   },
   "file_extension": ".py",
   "mimetype": "text/x-python",
   "name": "python",
   "nbconvert_exporter": "python",
   "pygments_lexer": "ipython3",
   "version": "3.8.8"
  },
  "varInspector": {
   "cols": {
    "lenName": 16,
    "lenType": 16,
    "lenVar": 40
   },
   "kernels_config": {
    "python": {
     "delete_cmd_postfix": "",
     "delete_cmd_prefix": "del ",
     "library": "var_list.py",
     "varRefreshCmd": "print(var_dic_list())"
    },
    "r": {
     "delete_cmd_postfix": ") ",
     "delete_cmd_prefix": "rm(",
     "library": "var_list.r",
     "varRefreshCmd": "cat(var_dic_list()) "
    }
   },
   "types_to_exclude": [
    "module",
    "function",
    "builtin_function_or_method",
    "instance",
    "_Feature"
   ],
   "window_display": false
  }
 },
 "nbformat": 4,
 "nbformat_minor": 5
}